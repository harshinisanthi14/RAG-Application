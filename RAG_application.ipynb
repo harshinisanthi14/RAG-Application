{
 "cells": [
  {
   "cell_type": "code",
   "execution_count": 1,
   "metadata": {
    "id": "07uWRfXYP3ee"
   },
   "outputs": [],
   "source": [
    "%%capture\n",
    "!pip uninstall -y sentence-transformers numpy -q\n",
    "!pip cache purge\n",
    "!pip install numpy==1.26.4 scipy==1.11.4 -q\n",
    "!pip install -U sentence-transformers -q\n",
    "!pip install -U langchain langchain-community langchain-huggingface -q\n",
    "!pip install -U faiss-cpu unstructured bitsandbytes accelerate transformers -q"
   ]
  },
  {
   "cell_type": "code",
   "execution_count": 2,
   "metadata": {
    "colab": {
     "base_uri": "https://localhost:8080/"
    },
    "id": "1i57aZ47CTHK",
    "outputId": "ae7ce30d-3cf5-4305-d545-9f7fca0e6e89"
   },
   "outputs": [
    {
     "name": "stdout",
     "output_type": "stream",
     "text": [
      "\n",
      "    _|    _|  _|    _|    _|_|_|    _|_|_|  _|_|_|  _|      _|    _|_|_|      _|_|_|_|    _|_|      _|_|_|  _|_|_|_|\n",
      "    _|    _|  _|    _|  _|        _|          _|    _|_|    _|  _|            _|        _|    _|  _|        _|\n",
      "    _|_|_|_|  _|    _|  _|  _|_|  _|  _|_|    _|    _|  _|  _|  _|  _|_|      _|_|_|    _|_|_|_|  _|        _|_|_|\n",
      "    _|    _|  _|    _|  _|    _|  _|    _|    _|    _|    _|_|  _|    _|      _|        _|    _|  _|        _|\n",
      "    _|    _|    _|_|      _|_|_|    _|_|_|  _|_|_|  _|      _|    _|_|_|      _|        _|    _|    _|_|_|  _|_|_|_|\n",
      "\n",
      "    A token is already saved on your machine. Run `huggingface-cli whoami` to get more information or `huggingface-cli logout` if you want to log out.\n",
      "    Setting a new token will erase the existing one.\n",
      "    To log in, `huggingface_hub` requires a token generated from https://huggingface.co/settings/tokens .\n",
      "Enter your token (input will not be visible): \n",
      "Add token as git credential? (Y/n) Y\n",
      "Token is valid (permission: read).\n",
      "The token `genai-proj` has been saved to /root/.cache/huggingface/stored_tokens\n",
      "\u001b[1m\u001b[31mCannot authenticate through git-credential as no helper is defined on your machine.\n",
      "You might have to re-authenticate when pushing to the Hugging Face Hub.\n",
      "Run the following command in your terminal in case you want to set the 'store' credential helper as default.\n",
      "\n",
      "git config --global credential.helper store\n",
      "\n",
      "Read https://git-scm.com/book/en/v2/Git-Tools-Credential-Storage for more details.\u001b[0m\n",
      "Token has not been saved to git credential helper.\n",
      "Your token has been saved to /root/.cache/huggingface/token\n",
      "Login successful.\n",
      "The current active token is: `genai-proj`\n"
     ]
    }
   ],
   "source": [
    "!huggingface-cli login"
   ]
  },
  {
   "cell_type": "code",
   "execution_count": 3,
   "metadata": {
    "id": "xcrNsXUzEwJ-"
   },
   "outputs": [],
   "source": [
    "\n",
    "from langchain_community.document_loaders import UnstructuredURLLoader\n",
    "from langchain.text_splitter import RecursiveCharacterTextSplitter\n",
    "from langchain.vectorstores import FAISS\n",
    "from langchain_huggingface import HuggingFaceEmbeddings\n"
   ]
  },
  {
   "cell_type": "code",
   "execution_count": 4,
   "metadata": {
    "id": "pOgItCLSFMDI"
   },
   "outputs": [],
   "source": [
    "URLS = [\"https://en.wikipedia.org/wiki/Data_science\"]"
   ]
  },
  {
   "cell_type": "code",
   "execution_count": 5,
   "metadata": {
    "id": "GhLC2mT_FlWq"
   },
   "outputs": [],
   "source": [
    "# extract data from url"
   ]
  },
  {
   "cell_type": "code",
   "execution_count": 6,
   "metadata": {
    "id": "BQfjffmWGJH3"
   },
   "outputs": [],
   "source": [
    "loaders = UnstructuredURLLoader(urls=URLS)"
   ]
  },
  {
   "cell_type": "code",
   "execution_count": 7,
   "metadata": {
    "id": "5ucf-90KGO4X"
   },
   "outputs": [],
   "source": [
    "data = loaders.load()"
   ]
  },
  {
   "cell_type": "code",
   "execution_count": 8,
   "metadata": {
    "id": "lUYsPGi5GbVZ"
   },
   "outputs": [],
   "source": [
    "# data"
   ]
  },
  {
   "cell_type": "code",
   "execution_count": 9,
   "metadata": {
    "id": "8ewOqA9nGe5i"
   },
   "outputs": [],
   "source": [
    "text_chunks = RecursiveCharacterTextSplitter(chunk_size=1000,chunk_overlap=200)"
   ]
  },
  {
   "cell_type": "code",
   "execution_count": 10,
   "metadata": {
    "id": "sNtoXsn8G7et"
   },
   "outputs": [],
   "source": [
    "chunks = text_chunks.split_documents(data)"
   ]
  },
  {
   "cell_type": "code",
   "execution_count": 11,
   "metadata": {
    "colab": {
     "base_uri": "https://localhost:8080/"
    },
    "id": "l7jAVck9HlWF",
    "outputId": "46814bc0-6fa3-4e8c-c85b-23c1f3769ee8"
   },
   "outputs": [
    {
     "data": {
      "text/plain": [
       "Document(metadata={'source': 'https://en.wikipedia.org/wiki/Data_science'}, page_content='Data science\\n\\nالعربية\\n\\nAzərbaycanca\\n\\nবাংলা\\n\\nБългарски\\n\\nCatalà\\n\\nČeština\\n\\nDeutsch\\n\\nEesti\\n\\nΕλληνικά\\n\\nEspañol\\n\\nEsperanto\\n\\nEuskara\\n\\nفارسی\\n\\nFrançais\\n\\nGalego\\n\\n한국어\\n\\nՀայերեն\\n\\nहिन्दी\\n\\nIdo\\n\\nBahasa Indonesia\\n\\nIsiZulu\\n\\nItaliano\\n\\nעברית\\n\\nಕನ್ನಡ\\n\\nҚазақша\\n\\nLatviešu\\n\\nМакедонски\\n\\nBahasa Melayu\\n\\nမြန်မာဘာသာ\\n\\nNederlands\\n\\n日本語\\n\\nNorsk bokmål\\n\\nਪੰਜਾਬੀ\\n\\nPolski\\n\\nPortuguês\\n\\nRuna Simi\\n\\nРусский\\n\\nShqip\\n\\nSimple English\\n\\nسنڌي\\n\\nСрпски / srpski\\n\\nSuomi\\n\\nதமிழ்\\n\\nไทย\\n\\nTürkçe\\n\\nУкраїнська\\n\\nاردو\\n\\nTiếng Việt\\n\\n粵語\\n\\n中文\\n\\nEdit links\\n\\nFrom Wikipedia, the free encyclopedia\\n\\nField of study to extract knowledge from data\\n\\nNot to be confused with Information science or Computer science.\\n\\nData science is an interdisciplinary academic field[1] that uses statistics, scientific computing, scientific methods, processing, scientific visualization, algorithms and systems to extract or extrapolate knowledge from potentially noisy, structured, or unstructured data.[2]')"
      ]
     },
     "execution_count": 11,
     "metadata": {},
     "output_type": "execute_result"
    }
   ],
   "source": [
    "chunks[0]"
   ]
  },
  {
   "cell_type": "code",
   "execution_count": 12,
   "metadata": {
    "colab": {
     "base_uri": "https://localhost:8080/"
    },
    "id": "L5CGqmfHHN1r",
    "outputId": "d2bdd0c0-c7bc-4a67-e527-0f92aadf92d6"
   },
   "outputs": [
    {
     "data": {
      "text/plain": [
       "21"
      ]
     },
     "execution_count": 12,
     "metadata": {},
     "output_type": "execute_result"
    }
   ],
   "source": [
    "len(chunks)"
   ]
  },
  {
   "cell_type": "code",
   "execution_count": 13,
   "metadata": {
    "colab": {
     "base_uri": "https://localhost:8080/",
     "height": 493,
     "referenced_widgets": [
      "2cf36e5399394229a781db8f6703c545",
      "d5cb978bb31849a4a7912c7a7c759b65",
      "aea2d52c070346aa81b6dd54eb268d39",
      "a327e22de401430083651a3498625cb2",
      "cedb3451e7b546289128a239d9abdc19",
      "6082398179c04934805b7a01dfd1c1eb",
      "6fc03f7726d042ab97ac88a65f530b3e",
      "0ea5c827e10d46aa8d7ee86852f2fc78",
      "f9164695039f4d24931a13fbefe203a9",
      "1eed7c4442be46728769d6f6a56f1fb8",
      "db607751d79045fb8a24734fd47b8108",
      "d5c83779e6404cea836813f404d9daa3",
      "e91d3ae7dc724355a221afe766e275e8",
      "d7443b17533345419dafb96490da2996",
      "370f6490421b4d42be659232ab1f0123",
      "38ae7df97f204e04bf4d967102b50555",
      "318950ea4d2a46d3b24a2949b7c7e304",
      "9cb662e654c743bb8d2b0efd8a016d53",
      "af99677521824f40b1924ac0b962eb2a",
      "2935e90cbe394e43bc2c44da7f1a9f9b",
      "50ecee8e84344f05b13db8c488671f14",
      "a632492e8e5342c182e6046c0afac743",
      "280f97fe1c3a4712855dede8a07a8ccc",
      "912faa33736f43a58c6b22e4bb3b40c3",
      "8cb62a78ea474659a96a8dfad64408ff",
      "602770568de344f194245a85873c06cd",
      "625571d2b149421c99390f2ded27c765",
      "ebacf43fc96246378eabb9b6252acc26",
      "7f855f28d92f4aca9d6b34d6be5f3605",
      "c4d915607a15449eaaf6069b6d89ac19",
      "88a9b2aa55e94a9b8e9f9eb74c91f40c",
      "f47b981cbf0f49188a6416dd5a5011b6",
      "ee887b9dca0740c38a6f16812d9b256d",
      "c5977eb4e4954236a74b6085f4a056b9",
      "a1d0dee4a9e14919a2907445a404271b",
      "10153df5c59248a98dc06eedfc2509ed",
      "904278d688a244aea69630429c7bea04",
      "c41318e07bda4c08baf66fb4044d288a",
      "a95a566aa3ad49a88dc451cb43890ee9",
      "6080cd4c9eb64dcaa87891581cf932d7",
      "399bbc6e8d2b4e478ce7984b6f8e2db8",
      "dd77ba9cf51542d08469809a32249e7e",
      "7e59c5db559b4f99ba8496677c8518ad",
      "9f4fdf600ead462abfad9ea3dabf96d7",
      "fa54e7cd3aaf49d29087dd846481b07a",
      "48a4444a4aa14aaf854daf77818a1f24",
      "b2c6de3d91fd4adbb432722f6b63f419",
      "a6a5c639080c4008973079f9289d6114",
      "0efadf37620c4534be28598b2ce2545e",
      "3c9b1c12f03a41ecba65c50b78e15a6a",
      "e3913e2328a3460a8562f13d4da74133",
      "efbe4a8ec0c442fb919bf70aaeab4457",
      "c1269705760741478cb1146002738180",
      "c07de5b86a8f4c44891b3a4b98bc1914",
      "380a12fee0774624a9b43e279967baef",
      "b82063226adb490b96f36a17ab4cec16",
      "80b08957b755495082738b16c9147b8f",
      "036d0c784ab043eebf57164b22211891",
      "8d6f93e1cc16445787e6a090f7d85f75",
      "701ee8c78bcc483685135cd3c114cd28",
      "b14112ecf5594b3db329c29f4fce0ace",
      "5423972326084297a53907a555c8050c",
      "5d64bf0d50a84606ba260b1090a7acb7",
      "3394e43e12d54884b49582debcf5421a",
      "9732cfb77ef1407a995c3ca8388ec618",
      "801dc9a4408a43cba2618579fbaa5b8d",
      "9860f49d0919444aa9f580b5f3bc7178",
      "b0f325f2c61d452c932ccc1246006a83",
      "8f1cf5f3d987495ab572d3a8d4678b3b",
      "5e062fde68434590bf3989b1014dca1d",
      "d8862a60efe54e4da6f6051e06480f5d",
      "accca637c3ce402ca19ffc4ea3772318",
      "8dae82196409449f8bdea9bdba94b28c",
      "8afeae657d5742e39b058d7db9d00c4c",
      "b56bb02b754c486e89892d1a8ab010db",
      "576696df03f644dcac6d943a7a7449c2",
      "67925337a01d4918900fd17fd2c75e94",
      "9eae5fa303d243c09cbd071a8a3e6471",
      "125b8ed877324a9cabf7c77ec7892e4a",
      "fd46bf69c12c490b82d28694056c7751",
      "1dad80609a88408b974357923742d5e9",
      "5652c56704114f7f9ab03a338e538671",
      "a74c44aff0e34cc398765c119fb9902b",
      "2c78df7c8b2d435995f8819aa79c8a31",
      "91321af9c0a24f20b93ad187b84ed53f",
      "aa3f08a439c54e758fb799c0e9f84683",
      "00ba86de7e844babbedc7ca586a213cf",
      "ad934810ee574360bcf35d7035778bc7",
      "b2ef8da09ba84fc0aa93cec8a2efb9d3",
      "c1ed479fb2ed4a2e9036adfb657a5319",
      "10422fb3c9a8426fa645df3a9014c234",
      "58cb28370f3f40fda80c00ba1795fdec",
      "dd3541114c6d414ba356eed729c15414",
      "5f68a52fcbe1466f915646de7aaed406",
      "d7d23534b1b04c3e89ed9b2b1292683b",
      "50ee506c4ecc43b6ad058e8d6a564e83",
      "f03b381f66ef4caeb9c470d67730548b",
      "f0765de9d0804bb1acabdb06601b9e65",
      "0908df836b4e45f1b70795000aca4777",
      "84306af30f8e4306842f410d3b023801",
      "45f57c727fbc40118e0732d4981ebbc2",
      "d965525b3d6c4d2cb1e73e55a1e620c4",
      "f6fbd62ebb3f4c258d8ae946057204d2",
      "5df406bfafcc4f5a9145fa7c6e1196a6",
      "a9a4c56e91664684b8b7a78f70bb330a",
      "f7379de7e8764dc9842664fac253467c",
      "0428449af5a04a6fa2df8f8c549f309c",
      "4880eee04ce54942b00d4407ef4bf1a1",
      "10e0581600ed4badbe7e77c3fa0066af",
      "7b0d54ae8b2e4fd297a0225cfc1fd251",
      "7de6be25b68242fc80f308a4a726dd05",
      "07ffc7ebdc6a425996c6e7013e5e61f3",
      "a1e589b3fa2b4144842ba9ac2f5b2ad6",
      "a8c607d331014ab2ae5c744bec20e97e",
      "06b573e72f3143e7917ba9203969abd5",
      "438ac96876324d93a0ba0a7d98d9fab3",
      "3e45277c80d846ea80f4c68ca698bd75",
      "d840c54df2894b818bd67a7748c6f238",
      "27aec6dd3994481e85662ef2c19f36a5",
      "3a7c2cc86b084d6e8aeec7ebee79780b",
      "a1e5a739fbf742879f3b7b6e72f6d9b8"
     ]
    },
    "id": "vNwNQ76RHizZ",
    "outputId": "fcb62db9-71d1-44dd-a837-bfb4eddabe77"
   },
   "outputs": [
    {
     "name": "stderr",
     "output_type": "stream",
     "text": [
      "/usr/local/lib/python3.11/dist-packages/huggingface_hub/utils/_auth.py:94: UserWarning: \n",
      "The secret `HF_TOKEN` does not exist in your Colab secrets.\n",
      "To authenticate with the Hugging Face Hub, create a token in your settings tab (https://huggingface.co/settings/tokens), set it as secret in your Google Colab and restart your session.\n",
      "You will be able to reuse this secret in all of your notebooks.\n",
      "Please note that authentication is recommended but still optional to access public models or datasets.\n",
      "  warnings.warn(\n"
     ]
    },
    {
     "data": {
      "application/vnd.jupyter.widget-view+json": {
       "model_id": "2cf36e5399394229a781db8f6703c545",
       "version_major": 2,
       "version_minor": 0
      },
      "text/plain": [
       "modules.json:   0%|          | 0.00/349 [00:00<?, ?B/s]"
      ]
     },
     "metadata": {},
     "output_type": "display_data"
    },
    {
     "data": {
      "application/vnd.jupyter.widget-view+json": {
       "model_id": "d5c83779e6404cea836813f404d9daa3",
       "version_major": 2,
       "version_minor": 0
      },
      "text/plain": [
       "config_sentence_transformers.json:   0%|          | 0.00/116 [00:00<?, ?B/s]"
      ]
     },
     "metadata": {},
     "output_type": "display_data"
    },
    {
     "data": {
      "application/vnd.jupyter.widget-view+json": {
       "model_id": "280f97fe1c3a4712855dede8a07a8ccc",
       "version_major": 2,
       "version_minor": 0
      },
      "text/plain": [
       "README.md: 0.00B [00:00, ?B/s]"
      ]
     },
     "metadata": {},
     "output_type": "display_data"
    },
    {
     "data": {
      "application/vnd.jupyter.widget-view+json": {
       "model_id": "c5977eb4e4954236a74b6085f4a056b9",
       "version_major": 2,
       "version_minor": 0
      },
      "text/plain": [
       "sentence_bert_config.json:   0%|          | 0.00/53.0 [00:00<?, ?B/s]"
      ]
     },
     "metadata": {},
     "output_type": "display_data"
    },
    {
     "data": {
      "application/vnd.jupyter.widget-view+json": {
       "model_id": "fa54e7cd3aaf49d29087dd846481b07a",
       "version_major": 2,
       "version_minor": 0
      },
      "text/plain": [
       "config.json:   0%|          | 0.00/612 [00:00<?, ?B/s]"
      ]
     },
     "metadata": {},
     "output_type": "display_data"
    },
    {
     "data": {
      "application/vnd.jupyter.widget-view+json": {
       "model_id": "b82063226adb490b96f36a17ab4cec16",
       "version_major": 2,
       "version_minor": 0
      },
      "text/plain": [
       "model.safetensors:   0%|          | 0.00/90.9M [00:00<?, ?B/s]"
      ]
     },
     "metadata": {},
     "output_type": "display_data"
    },
    {
     "data": {
      "application/vnd.jupyter.widget-view+json": {
       "model_id": "9860f49d0919444aa9f580b5f3bc7178",
       "version_major": 2,
       "version_minor": 0
      },
      "text/plain": [
       "tokenizer_config.json:   0%|          | 0.00/350 [00:00<?, ?B/s]"
      ]
     },
     "metadata": {},
     "output_type": "display_data"
    },
    {
     "data": {
      "application/vnd.jupyter.widget-view+json": {
       "model_id": "9eae5fa303d243c09cbd071a8a3e6471",
       "version_major": 2,
       "version_minor": 0
      },
      "text/plain": [
       "vocab.txt: 0.00B [00:00, ?B/s]"
      ]
     },
     "metadata": {},
     "output_type": "display_data"
    },
    {
     "data": {
      "application/vnd.jupyter.widget-view+json": {
       "model_id": "b2ef8da09ba84fc0aa93cec8a2efb9d3",
       "version_major": 2,
       "version_minor": 0
      },
      "text/plain": [
       "tokenizer.json: 0.00B [00:00, ?B/s]"
      ]
     },
     "metadata": {},
     "output_type": "display_data"
    },
    {
     "data": {
      "application/vnd.jupyter.widget-view+json": {
       "model_id": "84306af30f8e4306842f410d3b023801",
       "version_major": 2,
       "version_minor": 0
      },
      "text/plain": [
       "special_tokens_map.json:   0%|          | 0.00/112 [00:00<?, ?B/s]"
      ]
     },
     "metadata": {},
     "output_type": "display_data"
    },
    {
     "data": {
      "application/vnd.jupyter.widget-view+json": {
       "model_id": "7de6be25b68242fc80f308a4a726dd05",
       "version_major": 2,
       "version_minor": 0
      },
      "text/plain": [
       "config.json:   0%|          | 0.00/190 [00:00<?, ?B/s]"
      ]
     },
     "metadata": {},
     "output_type": "display_data"
    }
   ],
   "source": [
    "embeddings = HuggingFaceEmbeddings(model_name=\"sentence-transformers/all-MiniLM-L6-v2\")"
   ]
  },
  {
   "cell_type": "code",
   "execution_count": 14,
   "metadata": {
    "id": "SRRrcXTLKodk"
   },
   "outputs": [],
   "source": [
    "vectordatabase = FAISS.from_documents(chunks,embeddings)"
   ]
  },
  {
   "cell_type": "code",
   "execution_count": 15,
   "metadata": {
    "colab": {
     "base_uri": "https://localhost:8080/"
    },
    "id": "v6YrAp01SZCq",
    "outputId": "738a7f0c-6227-44cc-f5e4-37327fd180e2"
   },
   "outputs": [
    {
     "data": {
      "text/plain": [
       "<langchain_community.vectorstores.faiss.FAISS at 0x7cab9a8c5310>"
      ]
     },
     "execution_count": 15,
     "metadata": {},
     "output_type": "execute_result"
    }
   ],
   "source": [
    "vectordatabase"
   ]
  },
  {
   "cell_type": "code",
   "execution_count": 16,
   "metadata": {
    "id": "cXrTaPn_SiYV"
   },
   "outputs": [],
   "source": [
    "model = \"google/flan-t5-large\""
   ]
  },
  {
   "cell_type": "code",
   "execution_count": 17,
   "metadata": {
    "id": "InVd8KpTTIvh"
   },
   "outputs": [],
   "source": [
    "from transformers import AutoTokenizer,AutoModelForSeq2SeqLM,pipeline\n",
    "from langchain import HuggingFacePipeline"
   ]
  },
  {
   "cell_type": "code",
   "execution_count": 18,
   "metadata": {
    "colab": {
     "base_uri": "https://localhost:8080/",
     "height": 258,
     "referenced_widgets": [
      "91c912bac540473f8166ac9743433b4a",
      "7f70b3a9b5c44e0596ca239c62cd507c",
      "1ad2f93abc98434aaf0faea72e486816",
      "6578a2f75b6c4d009ad03f6c23e7eaf3",
      "c51f27faba6349a69ed92de4232c394a",
      "5d1b02d8538f486fa5c483ac34cf2198",
      "811e22d151e744ea8a8086f90a62bab7",
      "de9294dd66d44e9fbc1801aca95f4373",
      "30c5c1c8f36e42fd9d7a372326febb43",
      "c2be6ab2837f44cca0bebb0b6a41084a",
      "7ffbd87441d34d5abe020409e077f446",
      "9dd1e2de8a75476e9789f3d85dd23026",
      "963d6e19a50a4c7b849dff030b37b83b",
      "bf6b341359124c749d07958b76efb507",
      "a332a41bd11a453abe30966c83dbe169",
      "0bad1637662b4133997c51c5793213f2",
      "1c238c1bbec644a1b30ccc94eee807fb",
      "fac5c4f278de4c66ad57a4b621f1c953",
      "973650409ac742ec8b76cdb36ab40803",
      "ff6786f371f04935b4c75a526b708d72",
      "8c7ec88d6e2b4a05b9ead05030da3baa",
      "b55c3dfd81454af79c29461c3b90d47f",
      "b83791eda9064d0e9a2d67063000ec52",
      "0b2c19fac89a4690bd21efd035971f16",
      "948d4f4a5f4e4a828529dd2899041bcf",
      "444595f6ff0c4a52b096fe5806efec58",
      "f88247aa94a749c1b927ca3d04630e67",
      "06d68ed6e84540f99b4d21aba9c26fa8",
      "fa410ab42d804e488d5bfb447280ef30",
      "6474a573e3a847938d74f8f218683ce8",
      "3a94d016cc664c30b25f9e1d577f470b",
      "a04e116e274a429da025093fd4ea5fe1",
      "5ca3cef0119d413198454f090c54f759",
      "12f99c462dca4899bc60ab2e3e7760b0",
      "4c64a4a8eddf451bb9f1451d6f59f3ec",
      "25e006e6b9ae4da0a084818164f7a722",
      "ba2eb28033284eeb835538bbbf486222",
      "7a1dc43b4c2b44afbe8c501cd8b29250",
      "b1054b504884473e9a162ea7bab97892",
      "9aa8a79ce22544e19de3543b0789d490",
      "2f88b62617c143499d7664a79c8ab177",
      "d0ebb0bf777846be8d0fe0a6c1b1a3fa",
      "e21f53c5e4d44628926e48ea503cd217",
      "d9bcd0c831eb462fb1d190878a0396b9",
      "ce6293de445c49c5ad85202b48c5b4f2",
      "5bb461b626994c3eacf3e9fcee4cbd43",
      "92b5463815c044d5950615ad320bb34d",
      "5064503935bc4928b49a55ec90aee432",
      "6fc14ebd4d0342fcbc3dc4f0aeb8fe0e",
      "9a90ac2ee2d24b599fa55b7881d0a4c0",
      "60b690f0ac8f402893d0d920c0a531f7",
      "2ce55aabe5d244c980f3a58107ea1121",
      "3ae1c340a3c648da919c0bd96028d364",
      "5f7d3c6afffe4d18851b7132eed86b05",
      "fddd3a481e784d39bf13747b6bcff6f3",
      "bf68fc80e294466799343a1952226aa3",
      "57ad04322eda41d69a19242301a1f8cd",
      "446d8f7d7a69488f93d9b999466135cf",
      "b33bfdacd8bb4031a3adc4081e01d417",
      "4c9cb72ec9fd4b34aa15f0ddc3a61f75",
      "3cce3a36a722469487b444d209e92c29",
      "1f8be32c6ef64e18934fc634df6da7c9",
      "ef116caec3614e9a907f858f42406a4d",
      "4645a26b9d3d42348237b2e9f942248c",
      "bd4e4ea882f04d56b8133ddd29e1e848",
      "e1aac3c35ef1456c8d83ab4f9cf11b4c",
      "36d7006a8b4440d2b1d358c2fb743d02",
      "0574da7bee0546839d646f23f4814028",
      "48be8a34b70a44ac833eaa7cd89669ee",
      "e283f49e081b43c0838a481db576d244",
      "32e21a8df7bb4f36a0a72bca23a15a75",
      "5000cef1f06841b9af794d9039709a51",
      "a60a138700d544caa7701e12b4550f01",
      "22e9cecd87c34140bf1c5e8a08c22e80",
      "689927176eed4416a395993a4392b723",
      "31b4c72210f7446595491b69df4f6fb6",
      "def06ddd7af64e5b9e62f84b15884890"
     ]
    },
    "id": "gs0pBmu5ThLf",
    "outputId": "685cc55c-f1fa-48c2-e2ce-7ae23f6d7436"
   },
   "outputs": [
    {
     "data": {
      "application/vnd.jupyter.widget-view+json": {
       "model_id": "91c912bac540473f8166ac9743433b4a",
       "version_major": 2,
       "version_minor": 0
      },
      "text/plain": [
       "tokenizer_config.json: 0.00B [00:00, ?B/s]"
      ]
     },
     "metadata": {},
     "output_type": "display_data"
    },
    {
     "data": {
      "application/vnd.jupyter.widget-view+json": {
       "model_id": "9dd1e2de8a75476e9789f3d85dd23026",
       "version_major": 2,
       "version_minor": 0
      },
      "text/plain": [
       "spiece.model:   0%|          | 0.00/792k [00:00<?, ?B/s]"
      ]
     },
     "metadata": {},
     "output_type": "display_data"
    },
    {
     "data": {
      "application/vnd.jupyter.widget-view+json": {
       "model_id": "b83791eda9064d0e9a2d67063000ec52",
       "version_major": 2,
       "version_minor": 0
      },
      "text/plain": [
       "tokenizer.json: 0.00B [00:00, ?B/s]"
      ]
     },
     "metadata": {},
     "output_type": "display_data"
    },
    {
     "data": {
      "application/vnd.jupyter.widget-view+json": {
       "model_id": "12f99c462dca4899bc60ab2e3e7760b0",
       "version_major": 2,
       "version_minor": 0
      },
      "text/plain": [
       "special_tokens_map.json: 0.00B [00:00, ?B/s]"
      ]
     },
     "metadata": {},
     "output_type": "display_data"
    },
    {
     "data": {
      "application/vnd.jupyter.widget-view+json": {
       "model_id": "ce6293de445c49c5ad85202b48c5b4f2",
       "version_major": 2,
       "version_minor": 0
      },
      "text/plain": [
       "config.json:   0%|          | 0.00/662 [00:00<?, ?B/s]"
      ]
     },
     "metadata": {},
     "output_type": "display_data"
    },
    {
     "data": {
      "application/vnd.jupyter.widget-view+json": {
       "model_id": "bf68fc80e294466799343a1952226aa3",
       "version_major": 2,
       "version_minor": 0
      },
      "text/plain": [
       "model.safetensors:   0%|          | 0.00/3.13G [00:00<?, ?B/s]"
      ]
     },
     "metadata": {},
     "output_type": "display_data"
    },
    {
     "data": {
      "application/vnd.jupyter.widget-view+json": {
       "model_id": "36d7006a8b4440d2b1d358c2fb743d02",
       "version_major": 2,
       "version_minor": 0
      },
      "text/plain": [
       "generation_config.json:   0%|          | 0.00/147 [00:00<?, ?B/s]"
      ]
     },
     "metadata": {},
     "output_type": "display_data"
    },
    {
     "name": "stderr",
     "output_type": "stream",
     "text": [
      "Device set to use cpu\n"
     ]
    }
   ],
   "source": [
    "tokens = AutoTokenizer.from_pretrained(model)\n",
    "model1 = AutoModelForSeq2SeqLM.from_pretrained(model)\n",
    "pipe = pipeline(\"text2text-generation\",model=model1,tokenizer=tokens)"
   ]
  },
  {
   "cell_type": "code",
   "execution_count": 28,
   "metadata": {
    "id": "psADM6ceVPqk"
   },
   "outputs": [],
   "source": [
    "llm = HuggingFacePipeline(pipeline=pipe,model_kwargs={\"temperature\":0.5,\"max_length\":1000})"
   ]
  },
  {
   "cell_type": "code",
   "execution_count": 29,
   "metadata": {
    "id": "8X3_PRaXXBGn"
   },
   "outputs": [],
   "source": [
    "from langchain.chains import RetrievalQA"
   ]
  },
  {
   "cell_type": "code",
   "execution_count": 30,
   "metadata": {
    "id": "5vYNQxe4XV7t"
   },
   "outputs": [],
   "source": [
    "from langchain.prompts import PromptTemplate\n",
    "template = \"\"\"use the context to provide a concise answer and if you don't know just say don't know.\n",
    "{context}\n",
    "Question: {question}\n",
    "Helpful Answer:\"\"\"\n",
    "prompt_temp = PromptTemplate.from_template(template)"
   ]
  },
  {
   "cell_type": "code",
   "execution_count": 31,
   "metadata": {
    "id": "5KPwfOE-ZXWh"
   },
   "outputs": [],
   "source": [
    "qa_chain = RetrievalQA.from_chain_type(llm,chain_type=\"stuff\",retriever=vectordatabase.as_retriever(),chain_type_kwargs={\"prompt\":prompt_temp})"
   ]
  },
  {
   "cell_type": "code",
   "execution_count": 32,
   "metadata": {
    "id": "HmllE_mjbBxJ"
   },
   "outputs": [],
   "source": [
    "question = \"What is data science ?\"\n",
    "result = qa_chain({\"query\":question})"
   ]
  },
  {
   "cell_type": "code",
   "execution_count": 33,
   "metadata": {
    "colab": {
     "base_uri": "https://localhost:8080/",
     "height": 35
    },
    "id": "x6jtjz_RjL6i",
    "outputId": "261d6829-8d37-4ae4-933a-25fa6c7911f6"
   },
   "outputs": [
    {
     "data": {
      "application/vnd.google.colaboratory.intrinsic+json": {
       "type": "string"
      },
      "text/plain": [
       "'A data scientist is a professional who creates programming code and combines it with statistical knowledge to summarize data.'"
      ]
     },
     "execution_count": 33,
     "metadata": {},
     "output_type": "execute_result"
    }
   ],
   "source": [
    "result[\"result\"]"
   ]
  },
  {
   "cell_type": "code",
   "execution_count": 34,
   "metadata": {
    "id": "OUJU8d7PjoLk"
   },
   "outputs": [],
   "source": [
    "question = \"What is machine learning ?\"\n",
    "result = qa_chain({\"query\":question})"
   ]
  },
  {
   "cell_type": "code",
   "execution_count": 35,
   "metadata": {
    "colab": {
     "base_uri": "https://localhost:8080/",
     "height": 53
    },
    "id": "P9lDwJkbkkeH",
    "outputId": "6386edd5-d0c0-481a-d810-e8e78d1a3ca1"
   },
   "outputs": [
    {
     "data": {
      "application/vnd.google.colaboratory.intrinsic+json": {
       "type": "string"
      },
      "text/plain": [
       "'Data science involves working with larger datasets that often require advanced computational and statistical methods to analyze. Data scientists often work with unstructured data such as text or images and use machine learning algorithms to build predictive models.'"
      ]
     },
     "execution_count": 35,
     "metadata": {},
     "output_type": "execute_result"
    }
   ],
   "source": [
    "result[\"result\"]"
   ]
  },
  {
   "cell_type": "code",
   "execution_count": 36,
   "metadata": {
    "id": "A_54Zc9zk8rs"
   },
   "outputs": [],
   "source": [
    "%%capture\n",
    "pip install gradio"
   ]
  },
  {
   "cell_type": "code",
   "execution_count": 37,
   "metadata": {
    "id": "RirwqTYMlQ7F"
   },
   "outputs": [],
   "source": [
    "import gradio as gr"
   ]
  },
  {
   "cell_type": "code",
   "execution_count": 38,
   "metadata": {
    "id": "-Cy5jtZHmUmR"
   },
   "outputs": [],
   "source": [
    "def fetch(question,history):\n",
    "  result = qa_chain({\"query\":question})\n",
    "  return result[\"result\"]"
   ]
  },
  {
   "cell_type": "code",
   "execution_count": 41,
   "metadata": {
    "colab": {
     "base_uri": "https://localhost:8080/",
     "height": 698
    },
    "id": "lpnsgERzm6ZW",
    "outputId": "c607cfd9-986e-4081-a9c9-493b634c24d7"
   },
   "outputs": [
    {
     "name": "stderr",
     "output_type": "stream",
     "text": [
      "/tmp/ipython-input-41-1182061372.py:4: UserWarning: You have not specified a value for the `type` parameter. Defaulting to the 'tuples' format for chatbot messages, but this is deprecated and will be removed in a future version of Gradio. Please set type='messages' instead, which uses openai-style dictionaries with 'role' and 'content' keys.\n",
      "  chatbot=gr.Chatbot(height=300),\n",
      "/usr/local/lib/python3.11/dist-packages/gradio/chat_interface.py:315: UserWarning: The type of the gr.Chatbot does not match the type of the gr.ChatInterface.The type of the gr.ChatInterface, 'messages', will be used.\n",
      "  warnings.warn(\n"
     ]
    },
    {
     "name": "stdout",
     "output_type": "stream",
     "text": [
      "Caching examples at: '/content/.gradio/cached_examples/20'\n",
      "Colab notebook detected. To show errors in colab notebook, set debug=True in launch()\n",
      "* Running on public URL: https://abb7360b39665ed781.gradio.live\n",
      "\n",
      "This share link expires in 1 week. For free permanent hosting and GPU upgrades, run `gradio deploy` from the terminal in the working directory to deploy to Hugging Face Spaces (https://huggingface.co/spaces)\n"
     ]
    },
    {
     "data": {
      "text/html": [
       "<div><iframe src=\"https://abb7360b39665ed781.gradio.live\" width=\"100%\" height=\"500\" allow=\"autoplay; camera; microphone; clipboard-read; clipboard-write;\" frameborder=\"0\" allowfullscreen></iframe></div>"
      ],
      "text/plain": [
       "<IPython.core.display.HTML object>"
      ]
     },
     "metadata": {},
     "output_type": "display_data"
    },
    {
     "data": {
      "text/plain": []
     },
     "execution_count": 41,
     "metadata": {},
     "output_type": "execute_result"
    }
   ],
   "source": [
    "gr.ChatInterface(\n",
    "    fetch,\n",
    "    type=\"messages\",\n",
    "    chatbot=gr.Chatbot(height=300),\n",
    "    textbox=gr.Textbox(placeholder=\"Ask me a yes or no question\", container=False, scale=7),\n",
    "    title=\"Chat with Website\",\n",
    "    description=\"Ask the chatbot any question\",\n",
    "    theme=\"ocean\",\n",
    "    examples=[\"Data science\", \"Adavantages?\", \"what is machine learning?\"],\n",
    "    cache_examples=True,\n",
    ").launch(share=True)"
   ]
  },
  {
   "cell_type": "code",
   "execution_count": null,
   "metadata": {
    "id": "DGePcsJCoBDS"
   },
   "outputs": [],
   "source": []
  }
 ],
 "metadata": {
  "colab": {
   "provenance": []
  },
  "kernelspec": {
   "display_name": "Python 3",
   "name": "python3"
  },
  "language_info": {
   "name": "python"
  }
 },
 "nbformat": 4,
 "nbformat_minor": 0
}
